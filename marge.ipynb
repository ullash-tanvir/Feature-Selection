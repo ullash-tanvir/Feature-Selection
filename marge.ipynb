{
 "cells": [
  {
   "cell_type": "code",
   "execution_count": 64,
   "metadata": {},
   "outputs": [
    {
     "ename": "ValueError",
     "evalue": "No objects to concatenate",
     "output_type": "error",
     "traceback": [
      "\u001b[0;31m---------------------------------------------------------------------------\u001b[0m",
      "\u001b[0;31mValueError\u001b[0m                                Traceback (most recent call last)",
      "\u001b[0;32m<ipython-input-64-525706c78bfd>\u001b[0m in \u001b[0;36m<module>\u001b[0;34m\u001b[0m\n\u001b[1;32m      6\u001b[0m \u001b[0mall_files\u001b[0m \u001b[0;34m=\u001b[0m \u001b[0mglob\u001b[0m\u001b[0;34m.\u001b[0m\u001b[0mglob\u001b[0m\u001b[0;34m(\u001b[0m\u001b[0mos\u001b[0m\u001b[0;34m.\u001b[0m\u001b[0mpath\u001b[0m\u001b[0;34m.\u001b[0m\u001b[0mjoin\u001b[0m\u001b[0;34m(\u001b[0m\u001b[0mpath\u001b[0m\u001b[0;34m,\u001b[0m \u001b[0;34m\"data_file*.csv\"\u001b[0m\u001b[0;34m)\u001b[0m\u001b[0;34m)\u001b[0m\u001b[0;34m\u001b[0m\u001b[0;34m\u001b[0m\u001b[0m\n\u001b[1;32m      7\u001b[0m \u001b[0mdf_from_each_file\u001b[0m \u001b[0;34m=\u001b[0m \u001b[0;34m(\u001b[0m\u001b[0mpd\u001b[0m\u001b[0;34m.\u001b[0m\u001b[0mread_csv\u001b[0m\u001b[0;34m(\u001b[0m\u001b[0mf\u001b[0m\u001b[0;34m,\u001b[0m \u001b[0msep\u001b[0m\u001b[0;34m=\u001b[0m\u001b[0;34m','\u001b[0m\u001b[0;34m)\u001b[0m \u001b[0;32mfor\u001b[0m \u001b[0mf\u001b[0m \u001b[0;32min\u001b[0m \u001b[0mall_files\u001b[0m\u001b[0;34m)\u001b[0m\u001b[0;34m\u001b[0m\u001b[0;34m\u001b[0m\u001b[0m\n\u001b[0;32m----> 8\u001b[0;31m \u001b[0mdf_merged\u001b[0m   \u001b[0;34m=\u001b[0m \u001b[0mpd\u001b[0m\u001b[0;34m.\u001b[0m\u001b[0mconcat\u001b[0m\u001b[0;34m(\u001b[0m\u001b[0mdf_from_each_file\u001b[0m\u001b[0;34m,\u001b[0m \u001b[0mignore_index\u001b[0m\u001b[0;34m=\u001b[0m\u001b[0;32mTrue\u001b[0m\u001b[0;34m)\u001b[0m\u001b[0;34m\u001b[0m\u001b[0;34m\u001b[0m\u001b[0m\n\u001b[0m\u001b[1;32m      9\u001b[0m \u001b[0mdf_merged\u001b[0m\u001b[0;34m.\u001b[0m\u001b[0mto_csv\u001b[0m\u001b[0;34m(\u001b[0m \u001b[0;34m\"merged.csv\"\u001b[0m\u001b[0;34m)\u001b[0m\u001b[0;34m\u001b[0m\u001b[0;34m\u001b[0m\u001b[0m\n",
      "\u001b[0;32m~/opt/anaconda3/lib/python3.7/site-packages/pandas/core/reshape/concat.py\u001b[0m in \u001b[0;36mconcat\u001b[0;34m(objs, axis, join, join_axes, ignore_index, keys, levels, names, verify_integrity, sort, copy)\u001b[0m\n\u001b[1;32m    253\u001b[0m         \u001b[0mverify_integrity\u001b[0m\u001b[0;34m=\u001b[0m\u001b[0mverify_integrity\u001b[0m\u001b[0;34m,\u001b[0m\u001b[0;34m\u001b[0m\u001b[0;34m\u001b[0m\u001b[0m\n\u001b[1;32m    254\u001b[0m         \u001b[0mcopy\u001b[0m\u001b[0;34m=\u001b[0m\u001b[0mcopy\u001b[0m\u001b[0;34m,\u001b[0m\u001b[0;34m\u001b[0m\u001b[0;34m\u001b[0m\u001b[0m\n\u001b[0;32m--> 255\u001b[0;31m         \u001b[0msort\u001b[0m\u001b[0;34m=\u001b[0m\u001b[0msort\u001b[0m\u001b[0;34m,\u001b[0m\u001b[0;34m\u001b[0m\u001b[0;34m\u001b[0m\u001b[0m\n\u001b[0m\u001b[1;32m    256\u001b[0m     )\n\u001b[1;32m    257\u001b[0m \u001b[0;34m\u001b[0m\u001b[0m\n",
      "\u001b[0;32m~/opt/anaconda3/lib/python3.7/site-packages/pandas/core/reshape/concat.py\u001b[0m in \u001b[0;36m__init__\u001b[0;34m(self, objs, axis, join, join_axes, keys, levels, names, ignore_index, verify_integrity, copy, sort)\u001b[0m\n\u001b[1;32m    302\u001b[0m \u001b[0;34m\u001b[0m\u001b[0m\n\u001b[1;32m    303\u001b[0m         \u001b[0;32mif\u001b[0m \u001b[0mlen\u001b[0m\u001b[0;34m(\u001b[0m\u001b[0mobjs\u001b[0m\u001b[0;34m)\u001b[0m \u001b[0;34m==\u001b[0m \u001b[0;36m0\u001b[0m\u001b[0;34m:\u001b[0m\u001b[0;34m\u001b[0m\u001b[0;34m\u001b[0m\u001b[0m\n\u001b[0;32m--> 304\u001b[0;31m             \u001b[0;32mraise\u001b[0m \u001b[0mValueError\u001b[0m\u001b[0;34m(\u001b[0m\u001b[0;34m\"No objects to concatenate\"\u001b[0m\u001b[0;34m)\u001b[0m\u001b[0;34m\u001b[0m\u001b[0;34m\u001b[0m\u001b[0m\n\u001b[0m\u001b[1;32m    305\u001b[0m \u001b[0;34m\u001b[0m\u001b[0m\n\u001b[1;32m    306\u001b[0m         \u001b[0;32mif\u001b[0m \u001b[0mkeys\u001b[0m \u001b[0;32mis\u001b[0m \u001b[0;32mNone\u001b[0m\u001b[0;34m:\u001b[0m\u001b[0;34m\u001b[0m\u001b[0;34m\u001b[0m\u001b[0m\n",
      "\u001b[0;31mValueError\u001b[0m: No objects to concatenate"
     ]
    }
   ],
   "source": [
    "import os, glob\n",
    "import pandas as pd\n",
    "\n",
    "path = \"/Users/tanvirislamullash/Downloads/data_csgo \"\n",
    "\n",
    "all_files = glob.glob(os.path.join(path, \"data_file*.csv\"))\n",
    "df_from_each_file = (pd.read_csv(f, sep=',') for f in all_files)\n",
    "df_merged   = pd.concat(df_from_each_file, ignore_index=True)\n",
    "df_merged.to_csv( \"merged.csv\")"
   ]
  },
  {
   "cell_type": "code",
   "execution_count": null,
   "metadata": {},
   "outputs": [],
   "source": []
  },
  {
   "cell_type": "code",
   "execution_count": 65,
   "metadata": {},
   "outputs": [],
   "source": [
    "import os\n",
    "import glob\n",
    "import pandas as pd\n",
    "os.chdir(\"/Users/tanvirislamullash/Downloads/data_csgo\")"
   ]
  },
  {
   "cell_type": "code",
   "execution_count": null,
   "metadata": {},
   "outputs": [],
   "source": []
  },
  {
   "cell_type": "code",
   "execution_count": 66,
   "metadata": {},
   "outputs": [],
   "source": [
    "extension = 'csv'\n",
    "all_filenames = [i for i in glob.glob('data_file*.{}'.format(extension))]\n",
    "#combine all files in the list\n",
    "combined_csv = pd.concat([pd.read_csv(f) for f in all_filenames ])\n",
    "#export to csv\n",
    "combined_csv.to_csv( \"combined_csv.csv\", index=False, encoding='utf-8-sig')"
   ]
  },
  {
   "cell_type": "code",
   "execution_count": null,
   "metadata": {},
   "outputs": [],
   "source": []
  },
  {
   "cell_type": "code",
   "execution_count": 67,
   "metadata": {},
   "outputs": [
    {
     "data": {
      "text/html": [
       "<div>\n",
       "<style scoped>\n",
       "    .dataframe tbody tr th:only-of-type {\n",
       "        vertical-align: middle;\n",
       "    }\n",
       "\n",
       "    .dataframe tbody tr th {\n",
       "        vertical-align: top;\n",
       "    }\n",
       "\n",
       "    .dataframe thead th {\n",
       "        text-align: right;\n",
       "    }\n",
       "</style>\n",
       "<table border=\"1\" class=\"dataframe\">\n",
       "  <thead>\n",
       "    <tr style=\"text-align: right;\">\n",
       "      <th></th>\n",
       "      <th>Team1</th>\n",
       "      <th>Team2</th>\n",
       "      <th>Best Of</th>\n",
       "      <th>m1t1</th>\n",
       "      <th>m1t2</th>\n",
       "      <th>m2t1</th>\n",
       "      <th>m2t2</th>\n",
       "      <th>m3t1</th>\n",
       "      <th>m3t2</th>\n",
       "      <th>t1_removed_1</th>\n",
       "      <th>t2_removed_1</th>\n",
       "      <th>t1_picked_1</th>\n",
       "      <th>t2_picked_1</th>\n",
       "      <th>t1_removed_2</th>\n",
       "      <th>t2_removed_2</th>\n",
       "      <th>left_over</th>\n",
       "    </tr>\n",
       "  </thead>\n",
       "  <tbody>\n",
       "    <tr>\n",
       "      <td>0</td>\n",
       "      <td>Copenhagen Flames</td>\n",
       "      <td>HAVU</td>\n",
       "      <td>Best of 3 (Online)</td>\n",
       "      <td>5</td>\n",
       "      <td>16</td>\n",
       "      <td>14</td>\n",
       "      <td>16</td>\n",
       "      <td>-</td>\n",
       "      <td>-</td>\n",
       "      <td>Vertigo</td>\n",
       "      <td>Dust2</td>\n",
       "      <td>Train</td>\n",
       "      <td>Overpass</td>\n",
       "      <td>Inferno</td>\n",
       "      <td>Mirage</td>\n",
       "      <td>Nuke</td>\n",
       "    </tr>\n",
       "    <tr>\n",
       "      <td>1</td>\n",
       "      <td>Bizarre</td>\n",
       "      <td>Dynasty</td>\n",
       "      <td>Best of 3 (Online)</td>\n",
       "      <td>16</td>\n",
       "      <td>7</td>\n",
       "      <td>16</td>\n",
       "      <td>3</td>\n",
       "      <td>-</td>\n",
       "      <td>-</td>\n",
       "      <td>Mirage</td>\n",
       "      <td>Inferno</td>\n",
       "      <td>Train</td>\n",
       "      <td>Vertigo</td>\n",
       "      <td>Overpass</td>\n",
       "      <td>Dust2</td>\n",
       "      <td>Nuke</td>\n",
       "    </tr>\n",
       "    <tr>\n",
       "      <td>2</td>\n",
       "      <td>mousesports</td>\n",
       "      <td>SKADE</td>\n",
       "      <td>Best of 3 (Online)</td>\n",
       "      <td>19</td>\n",
       "      <td>17</td>\n",
       "      <td>16</td>\n",
       "      <td>6</td>\n",
       "      <td>-</td>\n",
       "      <td>-</td>\n",
       "      <td>Vertigo</td>\n",
       "      <td>Overpass</td>\n",
       "      <td>Mirage</td>\n",
       "      <td>Nuke</td>\n",
       "      <td>Dust2</td>\n",
       "      <td>Inferno</td>\n",
       "      <td>Train</td>\n",
       "    </tr>\n",
       "    <tr>\n",
       "      <td>3</td>\n",
       "      <td>SAW</td>\n",
       "      <td>K23</td>\n",
       "      <td>Best of 3 (Online)</td>\n",
       "      <td>10</td>\n",
       "      <td>16</td>\n",
       "      <td>10</td>\n",
       "      <td>16</td>\n",
       "      <td>-</td>\n",
       "      <td>-</td>\n",
       "      <td>Overpass</td>\n",
       "      <td>Vertigo</td>\n",
       "      <td>Nuke</td>\n",
       "      <td>Dust2</td>\n",
       "      <td>Mirage</td>\n",
       "      <td>Train</td>\n",
       "      <td>Inferno</td>\n",
       "    </tr>\n",
       "    <tr>\n",
       "      <td>4</td>\n",
       "      <td>Renewal</td>\n",
       "      <td>Wings Up</td>\n",
       "      <td>Best of 3 (Online)</td>\n",
       "      <td>16</td>\n",
       "      <td>12</td>\n",
       "      <td>4</td>\n",
       "      <td>16</td>\n",
       "      <td>16</td>\n",
       "      <td>9</td>\n",
       "      <td>Mirage</td>\n",
       "      <td>Vertigo</td>\n",
       "      <td>Nuke</td>\n",
       "      <td>Dust2</td>\n",
       "      <td>Inferno</td>\n",
       "      <td>Overpass</td>\n",
       "      <td>Train</td>\n",
       "    </tr>\n",
       "  </tbody>\n",
       "</table>\n",
       "</div>"
      ],
      "text/plain": [
       "               Team1     Team2             Best Of  m1t1  m1t2 m2t1 m2t2 m3t1  \\\n",
       "0  Copenhagen Flames      HAVU  Best of 3 (Online)     5    16   14   16    -   \n",
       "1            Bizarre   Dynasty  Best of 3 (Online)    16     7   16    3    -   \n",
       "2        mousesports     SKADE  Best of 3 (Online)    19    17   16    6    -   \n",
       "3                SAW       K23  Best of 3 (Online)    10    16   10   16    -   \n",
       "4            Renewal  Wings Up  Best of 3 (Online)    16    12    4   16   16   \n",
       "\n",
       "  m3t2 t1_removed_1 t2_removed_1 t1_picked_1 t2_picked_1 t1_removed_2  \\\n",
       "0    -      Vertigo        Dust2       Train    Overpass      Inferno   \n",
       "1    -       Mirage      Inferno       Train     Vertigo     Overpass   \n",
       "2    -      Vertigo     Overpass      Mirage        Nuke        Dust2   \n",
       "3    -     Overpass      Vertigo        Nuke       Dust2       Mirage   \n",
       "4    9       Mirage      Vertigo        Nuke       Dust2      Inferno   \n",
       "\n",
       "  t2_removed_2 left_over  \n",
       "0       Mirage      Nuke  \n",
       "1        Dust2      Nuke  \n",
       "2      Inferno     Train  \n",
       "3        Train   Inferno  \n",
       "4     Overpass     Train  "
      ]
     },
     "execution_count": 67,
     "metadata": {},
     "output_type": "execute_result"
    }
   ],
   "source": [
    "df=pd.read_csv('combined_csv.csv')\n",
    "df.head()"
   ]
  },
  {
   "cell_type": "code",
   "execution_count": null,
   "metadata": {},
   "outputs": [],
   "source": []
  },
  {
   "cell_type": "code",
   "execution_count": null,
   "metadata": {},
   "outputs": [],
   "source": []
  },
  {
   "cell_type": "code",
   "execution_count": 79,
   "metadata": {},
   "outputs": [],
   "source": [
    "dfc=df.copy()"
   ]
  },
  {
   "cell_type": "code",
   "execution_count": null,
   "metadata": {},
   "outputs": [],
   "source": []
  },
  {
   "cell_type": "code",
   "execution_count": null,
   "metadata": {},
   "outputs": [],
   "source": []
  },
  {
   "cell_type": "code",
   "execution_count": null,
   "metadata": {},
   "outputs": [],
   "source": []
  },
  {
   "cell_type": "code",
   "execution_count": null,
   "metadata": {},
   "outputs": [],
   "source": []
  },
  {
   "cell_type": "code",
   "execution_count": null,
   "metadata": {},
   "outputs": [],
   "source": []
  },
  {
   "cell_type": "code",
   "execution_count": 80,
   "metadata": {
    "scrolled": true
   },
   "outputs": [],
   "source": [
    "columns = ['m2t1', 'm2t2', 'm3t1', 'm3t2']\n",
    "\n",
    "for column in columns:\n",
    "\n",
    "    dfc[column] = dfc[column].replace({'-':0})\n",
    "    dfc[column].fillna(0.0, inplace=True)\n",
    "    dfc[column].dtype\n",
    "    dfc[column] = dfc[column].astype(float)"
   ]
  },
  {
   "cell_type": "code",
   "execution_count": null,
   "metadata": {},
   "outputs": [],
   "source": []
  },
  {
   "cell_type": "code",
   "execution_count": null,
   "metadata": {},
   "outputs": [],
   "source": []
  },
  {
   "cell_type": "code",
   "execution_count": null,
   "metadata": {},
   "outputs": [],
   "source": []
  },
  {
   "cell_type": "code",
   "execution_count": null,
   "metadata": {},
   "outputs": [],
   "source": []
  },
  {
   "cell_type": "code",
   "execution_count": null,
   "metadata": {},
   "outputs": [],
   "source": []
  },
  {
   "cell_type": "code",
   "execution_count": null,
   "metadata": {},
   "outputs": [],
   "source": []
  },
  {
   "cell_type": "code",
   "execution_count": null,
   "metadata": {},
   "outputs": [],
   "source": []
  },
  {
   "cell_type": "code",
   "execution_count": null,
   "metadata": {},
   "outputs": [],
   "source": []
  },
  {
   "cell_type": "code",
   "execution_count": null,
   "metadata": {},
   "outputs": [],
   "source": []
  },
  {
   "cell_type": "code",
   "execution_count": 81,
   "metadata": {},
   "outputs": [
    {
     "name": "stdout",
     "output_type": "stream",
     "text": [
      "float64\n",
      "float64\n",
      "float64\n",
      "float64\n"
     ]
    }
   ],
   "source": [
    "for column in columns:\n",
    "    print(dfc[column].dtype)"
   ]
  },
  {
   "cell_type": "code",
   "execution_count": null,
   "metadata": {},
   "outputs": [],
   "source": []
  },
  {
   "cell_type": "code",
   "execution_count": null,
   "metadata": {},
   "outputs": [],
   "source": []
  },
  {
   "cell_type": "code",
   "execution_count": null,
   "metadata": {},
   "outputs": [],
   "source": []
  },
  {
   "cell_type": "code",
   "execution_count": null,
   "metadata": {},
   "outputs": [],
   "source": []
  },
  {
   "cell_type": "code",
   "execution_count": 82,
   "metadata": {},
   "outputs": [],
   "source": [
    "dfc['result_1'] = dfc['m1t1']+dfc['m2t1']+dfc['m3t1']\n",
    "dfc['result_2'] = dfc['m1t2']+dfc['m2t2']+dfc['m3t2']"
   ]
  },
  {
   "cell_type": "code",
   "execution_count": null,
   "metadata": {},
   "outputs": [],
   "source": []
  },
  {
   "cell_type": "code",
   "execution_count": null,
   "metadata": {},
   "outputs": [],
   "source": []
  },
  {
   "cell_type": "code",
   "execution_count": null,
   "metadata": {},
   "outputs": [],
   "source": []
  },
  {
   "cell_type": "code",
   "execution_count": null,
   "metadata": {},
   "outputs": [],
   "source": []
  },
  {
   "cell_type": "code",
   "execution_count": 102,
   "metadata": {},
   "outputs": [
    {
     "data": {
      "text/html": [
       "<div>\n",
       "<style scoped>\n",
       "    .dataframe tbody tr th:only-of-type {\n",
       "        vertical-align: middle;\n",
       "    }\n",
       "\n",
       "    .dataframe tbody tr th {\n",
       "        vertical-align: top;\n",
       "    }\n",
       "\n",
       "    .dataframe thead th {\n",
       "        text-align: right;\n",
       "    }\n",
       "</style>\n",
       "<table border=\"1\" class=\"dataframe\">\n",
       "  <thead>\n",
       "    <tr style=\"text-align: right;\">\n",
       "      <th></th>\n",
       "      <th>Team1</th>\n",
       "      <th>Team2</th>\n",
       "      <th>Best Of</th>\n",
       "      <th>m1t1</th>\n",
       "      <th>m1t2</th>\n",
       "      <th>m2t1</th>\n",
       "      <th>m2t2</th>\n",
       "      <th>m3t1</th>\n",
       "      <th>m3t2</th>\n",
       "      <th>t1_removed_1</th>\n",
       "      <th>t2_removed_1</th>\n",
       "      <th>t1_picked_1</th>\n",
       "      <th>t2_picked_1</th>\n",
       "      <th>t1_removed_2</th>\n",
       "      <th>t2_removed_2</th>\n",
       "      <th>left_over</th>\n",
       "      <th>result_1</th>\n",
       "      <th>result_2</th>\n",
       "      <th>match_winner</th>\n",
       "    </tr>\n",
       "  </thead>\n",
       "  <tbody>\n",
       "    <tr>\n",
       "      <td>0</td>\n",
       "      <td>Copenhagen Flames</td>\n",
       "      <td>HAVU</td>\n",
       "      <td>Best of 3 (Online)</td>\n",
       "      <td>5</td>\n",
       "      <td>16</td>\n",
       "      <td>14.0</td>\n",
       "      <td>16.0</td>\n",
       "      <td>0.0</td>\n",
       "      <td>0.0</td>\n",
       "      <td>Vertigo</td>\n",
       "      <td>Dust2</td>\n",
       "      <td>Train</td>\n",
       "      <td>Overpass</td>\n",
       "      <td>Inferno</td>\n",
       "      <td>Mirage</td>\n",
       "      <td>Nuke</td>\n",
       "      <td>19.0</td>\n",
       "      <td>32.0</td>\n",
       "      <td>2</td>\n",
       "    </tr>\n",
       "    <tr>\n",
       "      <td>1</td>\n",
       "      <td>Bizarre</td>\n",
       "      <td>Dynasty</td>\n",
       "      <td>Best of 3 (Online)</td>\n",
       "      <td>16</td>\n",
       "      <td>7</td>\n",
       "      <td>16.0</td>\n",
       "      <td>3.0</td>\n",
       "      <td>0.0</td>\n",
       "      <td>0.0</td>\n",
       "      <td>Mirage</td>\n",
       "      <td>Inferno</td>\n",
       "      <td>Train</td>\n",
       "      <td>Vertigo</td>\n",
       "      <td>Overpass</td>\n",
       "      <td>Dust2</td>\n",
       "      <td>Nuke</td>\n",
       "      <td>32.0</td>\n",
       "      <td>10.0</td>\n",
       "      <td>1</td>\n",
       "    </tr>\n",
       "    <tr>\n",
       "      <td>2</td>\n",
       "      <td>mousesports</td>\n",
       "      <td>SKADE</td>\n",
       "      <td>Best of 3 (Online)</td>\n",
       "      <td>19</td>\n",
       "      <td>17</td>\n",
       "      <td>16.0</td>\n",
       "      <td>6.0</td>\n",
       "      <td>0.0</td>\n",
       "      <td>0.0</td>\n",
       "      <td>Vertigo</td>\n",
       "      <td>Overpass</td>\n",
       "      <td>Mirage</td>\n",
       "      <td>Nuke</td>\n",
       "      <td>Dust2</td>\n",
       "      <td>Inferno</td>\n",
       "      <td>Train</td>\n",
       "      <td>35.0</td>\n",
       "      <td>23.0</td>\n",
       "      <td>1</td>\n",
       "    </tr>\n",
       "    <tr>\n",
       "      <td>3</td>\n",
       "      <td>SAW</td>\n",
       "      <td>K23</td>\n",
       "      <td>Best of 3 (Online)</td>\n",
       "      <td>10</td>\n",
       "      <td>16</td>\n",
       "      <td>10.0</td>\n",
       "      <td>16.0</td>\n",
       "      <td>0.0</td>\n",
       "      <td>0.0</td>\n",
       "      <td>Overpass</td>\n",
       "      <td>Vertigo</td>\n",
       "      <td>Nuke</td>\n",
       "      <td>Dust2</td>\n",
       "      <td>Mirage</td>\n",
       "      <td>Train</td>\n",
       "      <td>Inferno</td>\n",
       "      <td>20.0</td>\n",
       "      <td>32.0</td>\n",
       "      <td>2</td>\n",
       "    </tr>\n",
       "    <tr>\n",
       "      <td>4</td>\n",
       "      <td>Renewal</td>\n",
       "      <td>Wings Up</td>\n",
       "      <td>Best of 3 (Online)</td>\n",
       "      <td>16</td>\n",
       "      <td>12</td>\n",
       "      <td>4.0</td>\n",
       "      <td>16.0</td>\n",
       "      <td>16.0</td>\n",
       "      <td>9.0</td>\n",
       "      <td>Mirage</td>\n",
       "      <td>Vertigo</td>\n",
       "      <td>Nuke</td>\n",
       "      <td>Dust2</td>\n",
       "      <td>Inferno</td>\n",
       "      <td>Overpass</td>\n",
       "      <td>Train</td>\n",
       "      <td>36.0</td>\n",
       "      <td>37.0</td>\n",
       "      <td>2</td>\n",
       "    </tr>\n",
       "  </tbody>\n",
       "</table>\n",
       "</div>"
      ],
      "text/plain": [
       "               Team1     Team2             Best Of  m1t1  m1t2  m2t1  m2t2  \\\n",
       "0  Copenhagen Flames      HAVU  Best of 3 (Online)     5    16  14.0  16.0   \n",
       "1            Bizarre   Dynasty  Best of 3 (Online)    16     7  16.0   3.0   \n",
       "2        mousesports     SKADE  Best of 3 (Online)    19    17  16.0   6.0   \n",
       "3                SAW       K23  Best of 3 (Online)    10    16  10.0  16.0   \n",
       "4            Renewal  Wings Up  Best of 3 (Online)    16    12   4.0  16.0   \n",
       "\n",
       "   m3t1  m3t2 t1_removed_1 t2_removed_1 t1_picked_1 t2_picked_1 t1_removed_2  \\\n",
       "0   0.0   0.0      Vertigo        Dust2       Train    Overpass      Inferno   \n",
       "1   0.0   0.0       Mirage      Inferno       Train     Vertigo     Overpass   \n",
       "2   0.0   0.0      Vertigo     Overpass      Mirage        Nuke        Dust2   \n",
       "3   0.0   0.0     Overpass      Vertigo        Nuke       Dust2       Mirage   \n",
       "4  16.0   9.0       Mirage      Vertigo        Nuke       Dust2      Inferno   \n",
       "\n",
       "  t2_removed_2 left_over  result_1  result_2  match_winner  \n",
       "0       Mirage      Nuke      19.0      32.0             2  \n",
       "1        Dust2      Nuke      32.0      10.0             1  \n",
       "2      Inferno     Train      35.0      23.0             1  \n",
       "3        Train   Inferno      20.0      32.0             2  \n",
       "4     Overpass     Train      36.0      37.0             2  "
      ]
     },
     "execution_count": 102,
     "metadata": {},
     "output_type": "execute_result"
    }
   ],
   "source": [
    "dfc.head()"
   ]
  },
  {
   "cell_type": "code",
   "execution_count": null,
   "metadata": {},
   "outputs": [],
   "source": []
  },
  {
   "cell_type": "code",
   "execution_count": 87,
   "metadata": {},
   "outputs": [],
   "source": [
    "result_1 = list(dfc['result_1'])\n",
    "result_2 = list(dfc['result_2'])\n",
    "winner =[]\n",
    "\n",
    "for i in range(len(dfc)):\n",
    "    if result_1[i]>result_2[i]:\n",
    "        winner.append(1)\n",
    "    else:\n",
    "        winner.append(2)"
   ]
  },
  {
   "cell_type": "code",
   "execution_count": 89,
   "metadata": {},
   "outputs": [],
   "source": [
    "dfc['match_winner'] = winner"
   ]
  },
  {
   "cell_type": "code",
   "execution_count": 91,
   "metadata": {},
   "outputs": [],
   "source": [
    "dfc.to_csv('/Users/tanvirislamullash/Downloads/data_csgo/combined_csv.csv')"
   ]
  },
  {
   "cell_type": "code",
   "execution_count": 98,
   "metadata": {},
   "outputs": [],
   "source": [
    "teams = set(list(dfc['Team1'])+list(dfc['Team2']))"
   ]
  },
  {
   "cell_type": "code",
   "execution_count": 99,
   "metadata": {},
   "outputs": [
    {
     "data": {
      "text/plain": [
       "372"
      ]
     },
     "execution_count": 99,
     "metadata": {},
     "output_type": "execute_result"
    }
   ],
   "source": [
    "len(teams)"
   ]
  },
  {
   "cell_type": "code",
   "execution_count": 100,
   "metadata": {},
   "outputs": [],
   "source": [
    "team_ranks = {}\n",
    "for team in teams:\n",
    "    team_ranks.update({team: 0})"
   ]
  },
  {
   "cell_type": "code",
   "execution_count": null,
   "metadata": {},
   "outputs": [],
   "source": []
  },
  {
   "cell_type": "code",
   "execution_count": null,
   "metadata": {},
   "outputs": [],
   "source": [
    "from sklearn.ensemble import RandomForestClassifier\n",
    "\n",
    "X_train, X_test, y_train, y_test = train_test_split(X, y, test_size=0.25, random_state=42)\n",
    "\n",
    "clf = RandomForestClassifier(max_depth=10)\n",
    "clf.fit(X_train, y_train)\n",
    "y_pred = clf.predict(X_test)\n",
    "score = clf.score(X_test, y_test)\n",
    "score"
   ]
  },
  {
   "cell_type": "code",
   "execution_count": 104,
   "metadata": {},
   "outputs": [],
   "source": [
    "import os, glob\n",
    "import pandas as pd\n",
    "\n",
    "path = \"/Users/tanvirislamullash/Downloads/data_csgo \"\n",
    "f1 = pd.read_csv('/Users/tanvirislamullash/Downloads/data_csgo/team_data_file0.csv')\n",
    "f2 = pd.read_csv('/Users/tanvirislamullash/Downloads/data_csgo/team_data_file100.csv')"
   ]
  },
  {
   "cell_type": "code",
   "execution_count": 106,
   "metadata": {},
   "outputs": [],
   "source": [
    "df_merged   = pd.concat((f1,f2), ignore_index=True)"
   ]
  },
  {
   "cell_type": "code",
   "execution_count": 108,
   "metadata": {},
   "outputs": [],
   "source": [
    "df_merged.to_csv('/Users/tanvirislamullash/Downloads/data_csgo/team_data_file_all.csv')"
   ]
  },
  {
   "cell_type": "code",
   "execution_count": 109,
   "metadata": {},
   "outputs": [],
   "source": [
    "df = pd.read_csv('/Users/tanvirislamullash/Downloads/data_csgo/team_data_file_all.csv')"
   ]
  },
  {
   "cell_type": "code",
   "execution_count": 113,
   "metadata": {},
   "outputs": [
    {
     "data": {
      "text/html": [
       "<div>\n",
       "<style scoped>\n",
       "    .dataframe tbody tr th:only-of-type {\n",
       "        vertical-align: middle;\n",
       "    }\n",
       "\n",
       "    .dataframe tbody tr th {\n",
       "        vertical-align: top;\n",
       "    }\n",
       "\n",
       "    .dataframe thead th {\n",
       "        text-align: right;\n",
       "    }\n",
       "</style>\n",
       "<table border=\"1\" class=\"dataframe\">\n",
       "  <thead>\n",
       "    <tr style=\"text-align: right;\">\n",
       "      <th></th>\n",
       "      <th>Team Name</th>\n",
       "      <th>World Rank</th>\n",
       "    </tr>\n",
       "  </thead>\n",
       "  <tbody>\n",
       "    <tr>\n",
       "      <td>0</td>\n",
       "      <td>x13</td>\n",
       "      <td>125.0</td>\n",
       "    </tr>\n",
       "    <tr>\n",
       "      <td>1</td>\n",
       "      <td>third-impact</td>\n",
       "      <td>84.0</td>\n",
       "    </tr>\n",
       "    <tr>\n",
       "      <td>2</td>\n",
       "      <td>ence</td>\n",
       "      <td>27.0</td>\n",
       "    </tr>\n",
       "    <tr>\n",
       "      <td>3</td>\n",
       "      <td>endpoint</td>\n",
       "      <td>30.0</td>\n",
       "    </tr>\n",
       "    <tr>\n",
       "      <td>4</td>\n",
       "      <td>offset</td>\n",
       "      <td>113.0</td>\n",
       "    </tr>\n",
       "    <tr>\n",
       "      <td>...</td>\n",
       "      <td>...</td>\n",
       "      <td>...</td>\n",
       "    </tr>\n",
       "    <tr>\n",
       "      <td>378</td>\n",
       "      <td>catevil</td>\n",
       "      <td>NaN</td>\n",
       "    </tr>\n",
       "    <tr>\n",
       "      <td>379</td>\n",
       "      <td>checkmate</td>\n",
       "      <td>165.0</td>\n",
       "    </tr>\n",
       "    <tr>\n",
       "      <td>380</td>\n",
       "      <td>mad-lions</td>\n",
       "      <td>77.0</td>\n",
       "    </tr>\n",
       "    <tr>\n",
       "      <td>381</td>\n",
       "      <td>ec-brugge</td>\n",
       "      <td>104.0</td>\n",
       "    </tr>\n",
       "    <tr>\n",
       "      <td>382</td>\n",
       "      <td>tpt</td>\n",
       "      <td>219.0</td>\n",
       "    </tr>\n",
       "  </tbody>\n",
       "</table>\n",
       "<p>383 rows × 2 columns</p>\n",
       "</div>"
      ],
      "text/plain": [
       "        Team Name  World Rank\n",
       "0             x13       125.0\n",
       "1    third-impact        84.0\n",
       "2            ence        27.0\n",
       "3        endpoint        30.0\n",
       "4          offset       113.0\n",
       "..            ...         ...\n",
       "378       catevil         NaN\n",
       "379     checkmate       165.0\n",
       "380     mad-lions        77.0\n",
       "381     ec-brugge       104.0\n",
       "382           tpt       219.0\n",
       "\n",
       "[383 rows x 2 columns]"
      ]
     },
     "execution_count": 113,
     "metadata": {},
     "output_type": "execute_result"
    }
   ],
   "source": [
    "df[['Team Name', 'World Rank']]"
   ]
  },
  {
   "cell_type": "code",
   "execution_count": 114,
   "metadata": {},
   "outputs": [],
   "source": [
    "df1 = pd.read_csv('combined_csv.csv')"
   ]
  },
  {
   "cell_type": "code",
   "execution_count": 155,
   "metadata": {
    "scrolled": true
   },
   "outputs": [],
   "source": [
    "df1['Team1'] = df1['Team1'].apply(lambda x:x.lower())\n",
    "df1['Team2'] = df1['Team2'].apply(lambda x:x.lower())\n",
    "\n",
    "rank_1, rank_2 = [], []\n",
    "\n",
    "for team in list(df1['Team1']):\n",
    "    try:\n",
    "        rank_1.append(ranks[team])\n",
    "    except:\n",
    "        rank_1.append(0)\n",
    "\n",
    "for team in list(df1['Team2']):\n",
    "    try:\n",
    "        rank_2.append(ranks[team])\n",
    "    except:\n",
    "        rank_2.append(0)"
   ]
  },
  {
   "cell_type": "code",
   "execution_count": 158,
   "metadata": {},
   "outputs": [],
   "source": [
    "df1['rank_1'] = rank_1\n",
    "df1['rank_2'] = rank_2"
   ]
  },
  {
   "cell_type": "code",
   "execution_count": 160,
   "metadata": {},
   "outputs": [],
   "source": [
    "df1.to_csv('combined_csv.csv')"
   ]
  },
  {
   "cell_type": "markdown",
   "metadata": {},
   "source": [
    "## Rank dictionary update"
   ]
  },
  {
   "cell_type": "code",
   "execution_count": 147,
   "metadata": {},
   "outputs": [
    {
     "name": "stdout",
     "output_type": "stream",
     "text": [
      "1546\n"
     ]
    }
   ],
   "source": [
    "import json\n",
    "\n",
    "with open('team_ranks.json', 'r') as f:\n",
    "    ranks = json.load(f)\n",
    "    \n",
    "print(len(ranks))\n",
    "a = {}\n",
    "for team in list(df['Team Name']):\n",
    "    try:\n",
    "        a.update({team: int(list(df[df['Team Name']==team]['World Rank'])[0])})\n",
    "    except:\n",
    "        a.update({team: 0})"
   ]
  },
  {
   "cell_type": "code",
   "execution_count": 150,
   "metadata": {},
   "outputs": [
    {
     "data": {
      "text/plain": [
       "1623"
      ]
     },
     "execution_count": 150,
     "metadata": {},
     "output_type": "execute_result"
    }
   ],
   "source": [
    "ranks.update(a)\n",
    "len(ranks)"
   ]
  },
  {
   "cell_type": "code",
   "execution_count": 151,
   "metadata": {},
   "outputs": [],
   "source": [
    "with open('team_ranks.json', 'w') as f:\n",
    "    json.dump(ranks, f)"
   ]
  },
  {
   "cell_type": "code",
   "execution_count": null,
   "metadata": {},
   "outputs": [],
   "source": []
  },
  {
   "cell_type": "code",
   "execution_count": null,
   "metadata": {},
   "outputs": [],
   "source": []
  }
 ],
 "metadata": {
  "kernelspec": {
   "display_name": "Python 3",
   "language": "python",
   "name": "python3"
  },
  "language_info": {
   "codemirror_mode": {
    "name": "ipython",
    "version": 3
   },
   "file_extension": ".py",
   "mimetype": "text/x-python",
   "name": "python",
   "nbconvert_exporter": "python",
   "pygments_lexer": "ipython3",
   "version": "3.7.4"
  }
 },
 "nbformat": 4,
 "nbformat_minor": 2
}
